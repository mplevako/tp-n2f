{
 "cells": [
  {
   "cell_type": "markdown",
   "metadata": {
    "colab_type": "text",
    "id": "YLKpz_uDKWQd"
   },
   "source": [
    "# **1. Setup.**"
   ]
  },
  {
   "cell_type": "code",
   "execution_count": null,
   "metadata": {
    "colab": {},
    "colab_type": "code",
    "id": "mOPGiI4AhY7o"
   },
   "outputs": [],
   "source": [
    "%pip install torch\n",
    "%pip install torchtext\n",
    "%pip install tensorboard\n",
    "%pip install pytorch-lightning"
   ]
  },
  {
   "cell_type": "code",
   "execution_count": 4,
   "metadata": {
    "colab": {},
    "colab_type": "code",
    "id": "rbvfksUsK9fN"
   },
   "outputs": [],
   "source": [
    "from argparse import ArgumentParser\n",
    "\n",
    "from pytorch_lightning import Trainer, seed_everything\n",
    "\n",
    "from module import TPN2FModule\n",
    "from tpn2f.model import TPN2FModel\n",
    "\n",
    "max_epochs = 60\n",
    "data_path = '.data'\n",
    "dataset = 'MathQA'\n",
    "num_workers = 0\n",
    "\n",
    "checkpoint_path = 'lightning_logs/version_0/checkpoints/epoch=0.ckpt'\n",
    "formula_limit = 10"
   ]
  },
  {
   "cell_type": "markdown",
   "metadata": {
    "colab_type": "text",
    "id": "bi-1u1DvLAzJ"
   },
   "source": [
    "# **2. Train.**"
   ]
  },
  {
   "cell_type": "code",
   "execution_count": null,
   "metadata": {
    "colab": {},
    "colab_type": "code",
    "id": "KGfnt9zSrqmN"
   },
   "outputs": [],
   "source": [
    "%load_ext tensorboard\n",
    "%tensorboard --logdir lightning_logs/"
   ]
  },
  {
   "cell_type": "code",
   "execution_count": null,
   "metadata": {
    "colab": {},
    "colab_type": "code",
    "id": "xBk6L9SIjNKE"
   },
   "outputs": [],
   "source": [
    "seed_everything(42)\n",
    "\n",
    "parser = ArgumentParser()\n",
    "parser = TPN2FModel.add_model_specific_args(parser)\n",
    "parser = Trainer.add_argparse_args(parser)\n",
    "parser.set_defaults(max_epochs=max_epochs, learning_rate=0.00115, num_workers=num_workers,\n",
    "                    data_path=data_path, dataset=dataset)\n",
    "\n",
    "hparams = parser.parse_args()\n",
    "trainer = Trainer.from_argparse_args(hparams, deterministic=True)\n",
    "model = TPN2FModule(hparams)\n",
    "trainer.fit(model)"
   ]
  },
  {
   "cell_type": "markdown",
   "metadata": {
    "colab_type": "text",
    "id": "3wbGHPBHLMeX"
   },
   "source": [
    "# **3. Infer.**"
   ]
  },
  {
   "cell_type": "code",
   "execution_count": null,
   "metadata": {
    "colab": {},
    "colab_type": "code",
    "id": "b_1gwhUnLXZ4"
   },
   "outputs": [],
   "source": [
    "problem = 'On the coast there are 3 lighthouses . The first light shines for 3 seconds then goes off for 3 seconds . The second light shines for 4 seconds then goes off for 4 seconds . The third light shines for 5 seconds then goes off for 5 seconds . All three lights have just come on together . When is the first time all three lights will be off ?' #@param {type:\"string\"}\n",
    "problem = model.dataset.encode_problem(problem)\n",
    "\n",
    "tpn2f = TPN2FModule.load_from_checkpoint(checkpoint_path)\n",
    "tpn2f.eval()\n",
    "formula = tpn2f(problem, formula_limit)\n",
    "relation_tuples = model.dataset.translate_formula(tpn2f.decode_formula(formula))\n",
    "print('|'.join([f\"{relation}({','.join(args)})\" for relation, *args in relation_tuples]))"
   ]
  }
 ],
 "metadata": {
  "colab": {
   "authorship_tag": "ABX9TyN0dLwmeNiXpgBHIgiz9eTP",
   "collapsed_sections": [],
   "mount_file_id": "1g4QeDuf3UZg9EomZMnmutgDXNtYxcBQP",
   "name": "tpn2f_demo.ipynb",
   "provenance": []
  },
  "kernelspec": {
   "display_name": "Python 3",
   "language": "python",
   "name": "python3"
  },
  "language_info": {
   "codemirror_mode": {
    "name": "ipython",
    "version": 3
   },
   "file_extension": ".py",
   "mimetype": "text/x-python",
   "name": "python",
   "nbconvert_exporter": "python",
   "pygments_lexer": "ipython3",
   "version": "3.8.3"
  }
 },
 "nbformat": 4,
 "nbformat_minor": 1
}